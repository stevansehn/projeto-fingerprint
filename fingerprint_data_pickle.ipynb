{
 "cells": [
  {
   "cell_type": "code",
   "execution_count": 3,
   "metadata": {},
   "outputs": [],
   "source": [
    "import os\n",
    "import numpy as np\n",
    "import pickle\n",
    "from PIL import Image\n",
    "from skimage.color import rgb2gray\n",
    "from sklearn.model_selection import train_test_split\n",
    "\n",
    "# dirpath = 'dataset_2009' # Excelente. Acurácia alta. Não podemos usar.\n",
    "dirpath = '/media/linse/dados/stevan/datasets/fingerprints/digitais/index' # Pequeno. Acurácia baixa. Podemos usar.\n",
    "\n",
    "filenames = os.listdir(dirpath)\n",
    "num_images = len(filenames)\n",
    "\n",
    "X = []\n",
    "y = []\n",
    "for fname in filenames:\n",
    "    srcpath = os.path.join(dirpath, fname)\n",
    "    label = os.path.basename(srcpath).split('_')[0]\n",
    "    y.append(label)\n",
    "    img = np.array(Image.open(srcpath).resize((312,372))) \n",
    "    img = rgb2gray(img)\n",
    "    X.append(img)\n"
   ]
  },
  {
   "cell_type": "code",
   "execution_count": 4,
   "metadata": {},
   "outputs": [],
   "source": [
    "X = np.asarray([np.reshape(x, (116064, 1)) for x in X]) # 116064 = 372*312\n",
    "y = np.asarray(y)\n",
    "X_train, X_test, y_train, y_test = train_test_split(X, y, test_size=0.5, random_state=0)\n",
    "\n",
    "fingerprint_data = []\n",
    "fingerprint_data.append(X_train)\n",
    "fingerprint_data.append(X_test)\n",
    "fingerprint_data.append(y_train)\n",
    "fingerprint_data.append(y_test)\n",
    "\n",
    "pkl_file = open('fingerprint_data.pkl', 'wb')\n",
    "\n",
    "pickle.dump(fingerprint_data, pkl_file)\n",
    "pkl_file.close()"
   ]
  },
  {
   "cell_type": "code",
   "execution_count": null,
   "metadata": {},
   "outputs": [],
   "source": []
  }
 ],
 "metadata": {
  "kernelspec": {
   "display_name": "Python 3",
   "language": "python",
   "name": "python3"
  },
  "language_info": {
   "codemirror_mode": {
    "name": "ipython",
    "version": 3
   },
   "file_extension": ".py",
   "mimetype": "text/x-python",
   "name": "python",
   "nbconvert_exporter": "python",
   "pygments_lexer": "ipython3",
   "version": "3.7.3"
  }
 },
 "nbformat": 4,
 "nbformat_minor": 4
}
